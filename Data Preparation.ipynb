{
 "cells": [
  {
   "cell_type": "markdown",
   "id": "0e3e13d7-7c99-41fa-ab42-9a42bbc9b348",
   "metadata": {},
   "source": [
    "# Chuẩn bị dữ liệu"
   ]
  },
  {
   "cell_type": "markdown",
   "id": "62b0d7e4-5e3c-4ccb-98d0-0a0455268317",
   "metadata": {
    "tags": []
   },
   "source": [
    "Đề tài sử dụng tập dữ liệu **Task01_BrainTumour.tar** từ [Medical Segmentation Decathlon](https://drive.google.com/drive/folders/1HqEgzS8BV2c7xYNrZdEAnrHk7osJJ--2)"
   ]
  },
  {
   "cell_type": "markdown",
   "id": "859617bd-4bfd-4ca9-b407-bab67f67c9b1",
   "metadata": {},
   "source": [
    "Mặc dù bộ dữ liệu Brain Tumor đã được chuẩn hoá trước với dạng NifTI, tuy nhiên ta cần thêm bước tiền xử lý dữ liệu với các bước\n",
    "\n",
    "**Sub-volume** Do mỗi ảnh MRI bao hàm một lượng lớn dữ liệu, nhưng phần cứng xử lý có giới hạn dẫn đến việc tại một thời điểm ta không thể xử lý được toàn bộ dữ liệu. Ngoài ra, không phải tất cả các vùng đều cần phải được đưa vào huẩn luyện, chỉ những phần cần thiết nên việc đưa vào toàn bộ sẽ là lãng phí.\n",
    "\n",
    "**Chuẩn hoá** do các giá trị trong ảnh MR bao gồm một phạm vi rất rộng, ta sẽ chuẩn hóa các giá trị để có giá trị trung bình bằng 0 và độ lệch chuẩn là 1."
   ]
  },
  {
   "cell_type": "markdown",
   "id": "45ea3a91-8e4d-4b14-acea-afa957e27b77",
   "metadata": {},
   "source": [
    "## Hàm và thư viện hỗ trợ"
   ]
  },
  {
   "cell_type": "code",
   "execution_count": 35,
   "id": "9d55b80d-0938-44e0-896a-c4e498b2c713",
   "metadata": {},
   "outputs": [],
   "source": [
    "from tensorflow.keras.utils import to_categorical\n",
    "import numpy as np\n",
    "import os\n",
    "import shutil\n",
    "import glob\n",
    "import nibabel as nib\n",
    "import matplotlib.pyplot as plt"
   ]
  },
  {
   "cell_type": "code",
   "execution_count": 36,
   "id": "26e543e0-2ffa-4733-a1b8-301b31337ae4",
   "metadata": {},
   "outputs": [],
   "source": [
    "def load_case(image_nifty_file, label_nifty_file):\n",
    "    image = np.array(nib.load(image_nifty_file).get_fdata())\n",
    "    label = np.array(nib.load(label_nifty_file).get_fdata())\n",
    "    \n",
    "    return image, label\n",
    "\n",
    "def save_optimized_case(image_data, label_data, \n",
    "                        output_image_dir, output_label_dir, \n",
    "                        output_name):\n",
    "    with open(os.path.join(output_image_dir, output_name), 'wb') as f:\n",
    "        np.save(f, image_data)\n",
    "    with open(os.path.join(output_label_dir, output_name), 'wb') as f:\n",
    "        np.save(f, label_data)\n",
    "    \n",
    "def load_optimized_case(image_file_path, label_file_path):\n",
    "    with open(image_file_path, 'rb') as f:\n",
    "        X = np.load(f)\n",
    "    with open(label_file_path, 'rb') as f:\n",
    "        y = np.load(f)\n",
    "    return X,y\n",
    "\n",
    "def visualize_case(X, y):\n",
    "    fig, ax = plt.subplots(1, 2, figsize=[10, 5], squeeze=False)\n",
    "\n",
    "    ax[0][0].imshow(X[:, :, 0], cmap='Greys_r')\n",
    "    ax[0][0].set_yticks([])\n",
    "    ax[0][0].set_xticks([])\n",
    "    ax[0][1].imshow(y[:, :, 0], cmap='Greys_r')\n",
    "    ax[0][1].set_xticks([])\n",
    "    ax[0][1].set_yticks([])\n",
    "\n",
    "    fig.subplots_adjust(wspace=0, hspace=0)"
   ]
  },
  {
   "cell_type": "markdown",
   "id": "8f7b0793-e1d6-438d-bfcd-1baba93eeb05",
   "metadata": {},
   "source": [
    "## Sub-volume sampling\n",
    "\n",
    "Ta xây dựng hàm `get_sub_volume` nhận vào tham số ảnh và nhãn ban đầu\n",
    "\n",
    "- 4D image (shape: [240, 240, 155, 4])\n",
    "- 3D label (shape: [240, 240, 155])\n",
    "\n",
    "Hàm sẽ trả về\n",
    "\n",
    "- Một vùng ngẫu nhiên có kích thước (160, 160, 16)\n",
    "- Nhãn tương ứng ở dạng 1-hot (3, 160, 160, 160)\n",
    "\n",
    "Ngoài ra, hàm này cũng áp thêm một số tiêu chí\n",
    "\n",
    "1. Đảm bảo sau phần được lấy phải bao gồm ít nhất 5% là khối u (có thể tùy biến)\n",
    "2. Số kênh (channel) được lưu ở phần tử đầu tiên của ảnh\n",
    "3. Sắp xếp lại số chiều của tập nhãn\n",
    "4. Giảm số chiều của nhãn bằng cách lược bỏ nhãn nền (background)"
   ]
  },
  {
   "cell_type": "code",
   "execution_count": 55,
   "id": "f52ae0f7-9cf9-4184-a9ad-4f84650c7240",
   "metadata": {},
   "outputs": [],
   "source": [
    "def get_sub_volume(image, label, \n",
    "                   orig_x = 240, orig_y = 240, orig_z = 155, \n",
    "                   output_x = 160, output_y = 160, output_z = 16,\n",
    "                   num_classes = 4, max_tries = 1000, \n",
    "                   background_threshold=0.95):\n",
    "    X = None\n",
    "    y = None\n",
    "\n",
    "    tries = 0\n",
    "    \n",
    "    while tries < max_tries:\n",
    "        start_x = np.random.randint(0, orig_x - output_x + 1)\n",
    "        start_y = np.random.randint(0, orig_y - output_y + 1)\n",
    "        start_z = np.random.randint(0, orig_z - output_z + 1)\n",
    "\n",
    "        y = label[start_x: start_x + output_x,\n",
    "                  start_y: start_y + output_y,\n",
    "                  start_z: start_z + output_z]\n",
    "        \n",
    "        y = to_categorical(y, num_classes=num_classes)\n",
    "\n",
    "        bgrd_ratio = np.sum(y[:, :, :, 0])/(output_x * output_y * output_z)\n",
    "\n",
    "        tries += 1\n",
    "\n",
    "        if bgrd_ratio < background_threshold:\n",
    "            X = np.copy(image[start_x: start_x + output_x,\n",
    "                              start_y: start_y + output_y,\n",
    "                              start_z: start_z + output_z, :])\n",
    "            X = np.moveaxis(X, -1, 0)\n",
    "            y = np.moveaxis(y, -1, 0)\n",
    "            y = y[1:, :, :, :]\n",
    "    \n",
    "            return X, y\n",
    "\n",
    "    raise Exception(f\"[ERROR] Tried {tries} times and unable to find sub-volume.\")"
   ]
  },
  {
   "cell_type": "markdown",
   "id": "c3aff78a-2fab-43f1-b1d8-a09c76bdafcb",
   "metadata": {},
   "source": [
    "## Thực hiện việc sub-sampling"
   ]
  },
  {
   "cell_type": "code",
   "execution_count": 57,
   "id": "9fcb7ac5-0d88-422c-904b-c1cd1da28439",
   "metadata": {},
   "outputs": [
    {
     "name": "stdout",
     "output_type": "stream",
     "text": [
      "-> Process file: BRATS_001.nii.gz\n"
     ]
    }
   ],
   "source": [
    "DATA_IMAGE_INPUT = \"./Task01_BrainTumour/imagesTr\"\n",
    "DATA_LABEL_INPUT = \"./Task01_BrainTumour/labelsTr\"\n",
    "\n",
    "DATA_IMAGE_OUTPUT = \"./Task01_BrainTumour/imagesTrOptimized\"\n",
    "DATA_LABEL_OUTPUT = \"./Task01_BrainTumour/labelsTrOptimized\"\n",
    "\n",
    "# Remove old output and generate again\n",
    "if os.path.isdir(DATA_IMAGE_OUTPUT):\n",
    "    shutil.rmtree(DATA_IMAGE_OUTPUT)\n",
    "os.mkdir(DATA_IMAGE_OUTPUT)\n",
    "\n",
    "if os.path.isdir(DATA_LABEL_OUTPUT):\n",
    "    shutil.rmtree(DATA_LABEL_OUTPUT)\n",
    "os.mkdir(DATA_LABEL_OUTPUT)\n",
    "\n",
    "# Optimize data\n",
    "for image_file_path in glob.glob(os.path.join(DATA_IMAGE_INPUT, '*.nii.gz'))[:1]:\n",
    "    file_base_name = os.path.basename(image_file_path)\n",
    "    label_file_path = os.path.join(DATA_LABEL_INPUT, file_base_name)\n",
    "    \n",
    "    if not os.path.isfile(label_file_path):\n",
    "        raise Exception(f'[ERROR] Label file not found: {label_file_path}')\n",
    "    \n",
    "    print(f'-> Process file: {file_base_name}')\n",
    "    image, label = utils.load_case( \\\n",
    "        image_file_path, \\\n",
    "        label_file_path \\\n",
    "    )\n",
    "    X, y = get_sub_volume(image, label, background_threshold=0.95)\n",
    "    save_optimized_case(X, y, DATA_IMAGE_OUTPUT, DATA_LABEL_OUTPUT, file_base_name) "
   ]
  },
  {
   "cell_type": "code",
   "execution_count": 58,
   "id": "4e9b8aa5-45a7-4e89-ab36-a1abac4a7ea2",
   "metadata": {},
   "outputs": [
    {
     "data": {
      "image/png": "[encoded data removed]",
      "text/plain": [
       "<Figure size 720x360 with 2 Axes>"
      ]
     },
     "metadata": {},
     "output_type": "display_data"
    }
   ],
   "source": [
    "X, y = load_optimized_case( \\\n",
    "    os.path.join(DATA_IMAGE_OUTPUT, 'BRATS_001.nii.gz'), \\\n",
    "    os.path.join(DATA_LABEL_OUTPUT, 'BRATS_001.nii.gz') \\\n",
    ")\n",
    "\n",
    "visualize_case(X[0, :, :, :], y[2])"
   ]
  },
  {
   "cell_type": "code",
   "execution_count": null,
   "id": "bad67c5b-5eef-4689-b59b-37c9e2e88958",
   "metadata": {},
   "outputs": [],
   "source": []
  }
 ],
 "metadata": {
  "kernelspec": {
   "display_name": "Python 3 (ipykernel)",
   "language": "python",
   "name": "python3"
  },
  "language_info": {
   "codemirror_mode": {
    "name": "ipython",
    "version": 3
   },
   "file_extension": ".py",
   "mimetype": "text/x-python",
   "name": "python",
   "nbconvert_exporter": "python",
   "pygments_lexer": "ipython3",
   "version": "3.9.9"
  }
 },
 "nbformat": 4,
 "nbformat_minor": 5
}
