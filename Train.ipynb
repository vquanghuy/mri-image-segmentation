{
  "cells": [
    {
      "cell_type": "markdown",
      "metadata": {
        "id": "view-in-github",
        "colab_type": "text"
      },
      "source": [
        "<a href=\"https://colab.research.google.com/github/vquanghuy/mri-image-segmentation/blob/main/Train.ipynb\" target=\"_parent\"><img src=\"https://colab.research.google.com/assets/colab-badge.svg\" alt=\"Open In Colab\"/></a>"
      ]
    },
    {
      "cell_type": "markdown",
      "source": [
        "## Prepare Data - Google Colab Only\n",
        "\n",
        "If we're running on Colab, we have to clone the whole repository so we can access to the dataset."
      ],
      "metadata": {
        "id": "7b9WJd0C8rOl"
      },
      "id": "7b9WJd0C8rOl"
    },
    {
      "cell_type": "code",
      "source": [
        "import sys\n",
        "IN_COLAB = 'google.colab' in sys.modules\n",
        "\n",
        "if IN_COLAB:\n",
        "    GITHUB_REPO = 'https://github.com/vquanghuy/mri-image-segmentation'\n",
        "    GITHUB_DIR = '/content/mri-image-segmentation'\n",
        "    CLONE_COMMAND = f'git clone {GITHUB_REPO}'\n",
        "\n",
        "\n",
        "    !{CLONE_COMMAND} # type: ignore\n",
        "    %cd {GITHUB_DIR}\n",
        "\n",
        "    from google.colab import drive\n",
        "    drive.mount('/content/drive')"
      ],
      "metadata": {
        "colab": {
          "base_uri": "https://localhost:8080/"
        },
        "id": "w57lDwAj803V",
        "outputId": "4bd49f08-a4f1-40de-f03a-bf12864409b7"
      },
      "id": "w57lDwAj803V",
      "execution_count": 1,
      "outputs": [
        {
          "output_type": "stream",
          "name": "stdout",
          "text": [
            "Cloning into 'mri-image-segmentation'...\n",
            "remote: Enumerating objects: 81, done.\u001b[K\n",
            "remote: Counting objects: 100% (81/81), done.\u001b[K\n",
            "remote: Compressing objects: 100% (45/45), done.\u001b[K\n",
            "remote: Total 81 (delta 46), reused 59 (delta 33), pack-reused 0\u001b[K\n",
            "Unpacking objects: 100% (81/81), done.\n",
            "/content/mri-image-segmentation\n"
          ]
        }
      ]
    },
    {
      "cell_type": "code",
      "source": [
        "!pwd"
      ],
      "metadata": {
        "colab": {
          "base_uri": "https://localhost:8080/"
        },
        "id": "JGrNib-1B5_k",
        "outputId": "329419b6-a35a-499f-a614-57178be8e039"
      },
      "id": "JGrNib-1B5_k",
      "execution_count": 2,
      "outputs": [
        {
          "output_type": "stream",
          "name": "stdout",
          "text": [
            "/content/mri-image-segmentation\n"
          ]
        }
      ]
    },
    {
      "cell_type": "markdown",
      "id": "05f135ff",
      "metadata": {
        "id": "05f135ff"
      },
      "source": [
        "## UNet Model"
      ]
    },
    {
      "cell_type": "code",
      "execution_count": 3,
      "id": "e0bab23a",
      "metadata": {
        "id": "e0bab23a"
      },
      "outputs": [],
      "source": [
        "import os\n",
        "import json\n",
        "os.environ['KMP_DUPLICATE_LIB_OK']='True'\n",
        "\n",
        "import numpy as np\n",
        "import pandas as pd\n",
        "import nibabel as nib\n",
        "import math\n",
        "\n",
        "%matplotlib inline\n",
        "import matplotlib.pyplot as plt\n",
        "\n",
        "import tensorflow as tf\n",
        "\n",
        "import tensorflow.keras.backend as tfback\n",
        "\n",
        "from tensorflow.keras import Input, Model\n",
        "from tensorflow.keras.layers import Conv3D, MaxPooling3D, UpSampling3D, \\\n",
        "                    Activation, BatchNormalization, PReLU, Conv3DTranspose, concatenate\n",
        "from tensorflow.keras.optimizers import Adam\n",
        "from tensorflow.keras.utils import to_categorical, Sequence"
      ]
    },
    {
      "cell_type": "code",
      "execution_count": 4,
      "id": "0149ece6",
      "metadata": {
        "id": "0149ece6",
        "outputId": "69657051-0ddb-49ba-c893-e4535a5fa34b",
        "colab": {
          "base_uri": "https://localhost:8080/"
        }
      },
      "outputs": [
        {
          "output_type": "stream",
          "name": "stdout",
          "text": [
            "Wed Aug  3 04:56:10 2022       \n",
            "+-----------------------------------------------------------------------------+\n",
            "| NVIDIA-SMI 460.32.03    Driver Version: 460.32.03    CUDA Version: 11.2     |\n",
            "|-------------------------------+----------------------+----------------------+\n",
            "| GPU  Name        Persistence-M| Bus-Id        Disp.A | Volatile Uncorr. ECC |\n",
            "| Fan  Temp  Perf  Pwr:Usage/Cap|         Memory-Usage | GPU-Util  Compute M. |\n",
            "|                               |                      |               MIG M. |\n",
            "|===============================+======================+======================|\n",
            "|   0  Tesla T4            Off  | 00000000:00:04.0 Off |                    0 |\n",
            "| N/A   60C    P8    11W /  70W |      0MiB / 15109MiB |      0%      Default |\n",
            "|                               |                      |                  N/A |\n",
            "+-------------------------------+----------------------+----------------------+\n",
            "                                                                               \n",
            "+-----------------------------------------------------------------------------+\n",
            "| Processes:                                                                  |\n",
            "|  GPU   GI   CI        PID   Type   Process name                  GPU Memory |\n",
            "|        ID   ID                                                   Usage      |\n",
            "|=============================================================================|\n",
            "|  No running processes found                                                 |\n",
            "+-----------------------------------------------------------------------------+\n"
          ]
        }
      ],
      "source": [
        "!nvidia-smi"
      ]
    },
    {
      "cell_type": "code",
      "execution_count": 5,
      "id": "f32e5cb5-2b5f-4750-b2cf-f942e994920e",
      "metadata": {
        "id": "f32e5cb5-2b5f-4750-b2cf-f942e994920e",
        "outputId": "f63fdf34-998b-4594-d111-488499cc6a6f",
        "colab": {
          "base_uri": "https://localhost:8080/"
        }
      },
      "outputs": [
        {
          "output_type": "stream",
          "name": "stdout",
          "text": [
            "1 Physical GPUs, 1 Logical GPU\n"
          ]
        }
      ],
      "source": [
        "gpus = tf.config.list_physical_devices('GPU')\n",
        "if gpus:\n",
        "  # Restrict TensorFlow to only use the first GPU\n",
        "  try:\n",
        "    tf.config.set_visible_devices(gpus[0], 'GPU')\n",
        "    logical_gpus = tf.config.list_logical_devices('GPU')\n",
        "    print(len(gpus), \"Physical GPUs,\", len(logical_gpus), \"Logical GPU\")\n",
        "  except RuntimeError as e:\n",
        "    # Visible devices must be set before GPUs have been initialized\n",
        "    print(e)"
      ]
    },
    {
      "cell_type": "code",
      "execution_count": 6,
      "id": "78269982",
      "metadata": {
        "id": "78269982"
      },
      "outputs": [],
      "source": [
        "# For GPU - use channels_first, otherwise use channel_last\n",
        "tfback.set_image_data_format(\"channels_first\") # For GPU\n",
        "# tfback.set_image_data_format(\"channels_last\") # For CPU"
      ]
    },
    {
      "cell_type": "markdown",
      "id": "8cb08020-5590-4bce-a9f2-e7e90843b121",
      "metadata": {
        "id": "8cb08020-5590-4bce-a9f2-e7e90843b121"
      },
      "source": [
        "## Build UNet model"
      ]
    },
    {
      "cell_type": "code",
      "execution_count": 7,
      "id": "cc5b4903",
      "metadata": {
        "id": "cc5b4903"
      },
      "outputs": [],
      "source": [
        "# Credit to: https://github.com/ellisdg/3DUnetCNN\n",
        "def create_convolution_block(input_layer, n_filters, batch_normalization=False,\n",
        "                             kernel=(3, 3, 3), activation=None,\n",
        "                             padding='same', strides=(1, 1, 1),\n",
        "                             instance_normalization=False):\n",
        "    \"\"\"\n",
        "    :param strides:\n",
        "    :param input_layer:\n",
        "    :param n_filters:\n",
        "    :param batch_normalization:\n",
        "    :param kernel:\n",
        "    :param activation: Keras activation layer to use. (default is 'relu')\n",
        "    :param padding:\n",
        "    :return:\n",
        "    \"\"\"\n",
        "    layer = Conv3D(n_filters, kernel, padding=padding, strides=strides)(\n",
        "        input_layer)\n",
        "    if activation is None:\n",
        "        return Activation('relu')(layer)\n",
        "    else:\n",
        "        return activation()(layer)\n",
        "\n",
        "\n",
        "def get_up_convolution(n_filters, pool_size, kernel_size=(2, 2, 2),\n",
        "                       strides=(2, 2, 2),\n",
        "                       deconvolution=False):\n",
        "    if deconvolution:\n",
        "        return Conv3DTranspose(filters=n_filters, kernel_size=kernel_size,\n",
        "                               strides=strides)\n",
        "    else:\n",
        "        return UpSampling3D(size=pool_size)\n",
        "\n",
        "def unet_model_3d(loss_function, input_shape=(4, 160, 160, 16),\n",
        "                  pool_size=(2, 2, 2), n_labels=3,\n",
        "                  initial_learning_rate=0.00001,\n",
        "                  deconvolution=False, depth=4, n_base_filters=32,\n",
        "                  include_label_wise_dice_coefficients=False, metrics=[],\n",
        "                  batch_normalization=False, activation_name=\"sigmoid\"):\n",
        "    \"\"\"\n",
        "    Builds the 3D UNet Keras model.f\n",
        "    :param metrics: List metrics to be calculated during model training (default is dice coefficient).\n",
        "    :param include_label_wise_dice_coefficients: If True and n_labels is greater than 1, model will report the dice\n",
        "    coefficient for each label as metric.\n",
        "    :param n_base_filters: The number of filters that the first layer in the convolution network will have. Following\n",
        "    layers will contain a multiple of this number. Lowering this number will likely reduce the amount of memory required\n",
        "    to train the model.\n",
        "    :param depth: indicates the depth of the U-shape for the model. The greater the depth, the more max pooling\n",
        "    layers will be added to the model. Lowering the depth may reduce the amount of memory required for training.\n",
        "    :param input_shape: Shape of the input data (n_chanels, x_size, y_size, z_size). The x, y, and z sizes must be\n",
        "    divisible by the pool size to the power of the depth of the UNet, that is pool_size^depth.\n",
        "    :param pool_size: Pool size for the max pooling operations.\n",
        "    :param n_labels: Number of binary labels that the model is learning.\n",
        "    :param initial_learning_rate: Initial learning rate for the model. This will be decayed during training.\n",
        "    :param deconvolution: If set to True, will use transpose convolution(deconvolution) instead of up-sampling. This\n",
        "    increases the amount memory required during training.\n",
        "    :return: Untrained 3D UNet Model\n",
        "    \"\"\"\n",
        "    inputs = Input(input_shape)\n",
        "    current_layer = inputs\n",
        "    levels = list()\n",
        "\n",
        "    # add levels with max pooling\n",
        "    for layer_depth in range(depth):\n",
        "        layer1 = create_convolution_block(input_layer=current_layer,\n",
        "                                          n_filters=n_base_filters * (\n",
        "                                                  2 ** layer_depth),\n",
        "                                          batch_normalization=batch_normalization)\n",
        "        layer2 = create_convolution_block(input_layer=layer1,\n",
        "                                          n_filters=n_base_filters * (\n",
        "                                                  2 ** layer_depth) * 2,\n",
        "                                          batch_normalization=batch_normalization)\n",
        "        if layer_depth < depth - 1:\n",
        "            current_layer = MaxPooling3D(pool_size=pool_size)(layer2)\n",
        "            levels.append([layer1, layer2, current_layer])\n",
        "        else:\n",
        "            current_layer = layer2\n",
        "            levels.append([layer1, layer2])\n",
        "\n",
        "    # add levels with up-convolution or up-sampling\n",
        "    for layer_depth in range(depth - 2, -1, -1):\n",
        "        up_convolution = get_up_convolution(pool_size=pool_size,\n",
        "                                            deconvolution=deconvolution,\n",
        "                                            n_filters=\n",
        "                                            current_layer.shape[1])(\n",
        "            current_layer)\n",
        "        concat = concatenate([up_convolution, levels[layer_depth][1]], axis=1)\n",
        "        current_layer = create_convolution_block(\n",
        "            n_filters=levels[layer_depth][1].shape[1],\n",
        "            input_layer=concat, batch_normalization=batch_normalization)\n",
        "        current_layer = create_convolution_block(\n",
        "            n_filters=levels[layer_depth][1].shape[1],\n",
        "            input_layer=current_layer,\n",
        "            batch_normalization=batch_normalization)\n",
        "\n",
        "    final_convolution = Conv3D(n_labels, (1, 1, 1))(current_layer)\n",
        "    act = Activation(activation_name)(final_convolution)\n",
        "    model = Model(inputs=inputs, outputs=act)\n",
        "\n",
        "    if not isinstance(metrics, list):\n",
        "        metrics = [metrics]\n",
        "\n",
        "    model.compile(optimizer=Adam(learning_rate=initial_learning_rate), loss=loss_function,\n",
        "                  metrics=metrics)\n",
        "    return model"
      ]
    },
    {
      "cell_type": "code",
      "execution_count": 8,
      "id": "353ef9d9",
      "metadata": {
        "id": "353ef9d9"
      },
      "outputs": [],
      "source": [
        "def soft_dice_loss(y_true, y_pred, axis=(1, 2, 3), \n",
        "                   epsilon=0.00001):\n",
        "    dice_numerator = 2 * tfback.sum(y_true * y_pred, axis=axis) + epsilon\n",
        "    dice_denominator = tfback.sum(y_true**2, axis=axis) + tfback.sum(y_pred**2, axis=axis) + epsilon\n",
        "    dice_loss = 1 - tfback.mean(dice_numerator/dice_denominator)\n",
        "\n",
        "    return dice_loss\n",
        "\n",
        "def dice_coefficient(y_true, y_pred, axis=(1, 2, 3), \n",
        "                     epsilon=0.00001):\n",
        "    dice_numerator = 2 * tfback.sum(y_true * y_pred, axis=axis) + epsilon\n",
        "    dice_denominator = tfback.sum(y_true, axis=axis) + tfback.sum(y_pred, axis=axis) + epsilon\n",
        "    dice_coefficient = tfback.mean(dice_numerator/dice_denominator)\n",
        "    \n",
        "    return dice_coefficient"
      ]
    },
    {
      "cell_type": "code",
      "execution_count": 9,
      "id": "10b8c91f",
      "metadata": {
        "id": "10b8c91f"
      },
      "outputs": [],
      "source": [
        "model = unet_model_3d(loss_function=soft_dice_loss, metrics=[dice_coefficient], depth=5)"
      ]
    },
    {
      "cell_type": "code",
      "execution_count": 10,
      "id": "f1e7adcf",
      "metadata": {
        "id": "f1e7adcf",
        "outputId": "6569575d-d4ab-4ed5-ae0b-cf7b47a0c443",
        "colab": {
          "base_uri": "https://localhost:8080/"
        }
      },
      "outputs": [
        {
          "output_type": "stream",
          "name": "stdout",
          "text": [
            "Model: \"model\"\n",
            "__________________________________________________________________________________________________\n",
            " Layer (type)                   Output Shape         Param #     Connected to                     \n",
            "==================================================================================================\n",
            " input_1 (InputLayer)           [(None, 4, 160, 160  0           []                               \n",
            "                                , 16)]                                                            \n",
            "                                                                                                  \n",
            " conv3d (Conv3D)                (None, 32, 160, 160  3488        ['input_1[0][0]']                \n",
            "                                , 16)                                                             \n",
            "                                                                                                  \n",
            " activation (Activation)        (None, 32, 160, 160  0           ['conv3d[0][0]']                 \n",
            "                                , 16)                                                             \n",
            "                                                                                                  \n",
            " conv3d_1 (Conv3D)              (None, 64, 160, 160  55360       ['activation[0][0]']             \n",
            "                                , 16)                                                             \n",
            "                                                                                                  \n",
            " activation_1 (Activation)      (None, 64, 160, 160  0           ['conv3d_1[0][0]']               \n",
            "                                , 16)                                                             \n",
            "                                                                                                  \n",
            " max_pooling3d (MaxPooling3D)   (None, 64, 80, 80,   0           ['activation_1[0][0]']           \n",
            "                                8)                                                                \n",
            "                                                                                                  \n",
            " conv3d_2 (Conv3D)              (None, 64, 80, 80,   110656      ['max_pooling3d[0][0]']          \n",
            "                                8)                                                                \n",
            "                                                                                                  \n",
            " activation_2 (Activation)      (None, 64, 80, 80,   0           ['conv3d_2[0][0]']               \n",
            "                                8)                                                                \n",
            "                                                                                                  \n",
            " conv3d_3 (Conv3D)              (None, 128, 80, 80,  221312      ['activation_2[0][0]']           \n",
            "                                 8)                                                               \n",
            "                                                                                                  \n",
            " activation_3 (Activation)      (None, 128, 80, 80,  0           ['conv3d_3[0][0]']               \n",
            "                                 8)                                                               \n",
            "                                                                                                  \n",
            " max_pooling3d_1 (MaxPooling3D)  (None, 128, 40, 40,  0          ['activation_3[0][0]']           \n",
            "                                 4)                                                               \n",
            "                                                                                                  \n",
            " conv3d_4 (Conv3D)              (None, 128, 40, 40,  442496      ['max_pooling3d_1[0][0]']        \n",
            "                                 4)                                                               \n",
            "                                                                                                  \n",
            " activation_4 (Activation)      (None, 128, 40, 40,  0           ['conv3d_4[0][0]']               \n",
            "                                 4)                                                               \n",
            "                                                                                                  \n",
            " conv3d_5 (Conv3D)              (None, 256, 40, 40,  884992      ['activation_4[0][0]']           \n",
            "                                 4)                                                               \n",
            "                                                                                                  \n",
            " activation_5 (Activation)      (None, 256, 40, 40,  0           ['conv3d_5[0][0]']               \n",
            "                                 4)                                                               \n",
            "                                                                                                  \n",
            " max_pooling3d_2 (MaxPooling3D)  (None, 256, 20, 20,  0          ['activation_5[0][0]']           \n",
            "                                 2)                                                               \n",
            "                                                                                                  \n",
            " conv3d_6 (Conv3D)              (None, 256, 20, 20,  1769728     ['max_pooling3d_2[0][0]']        \n",
            "                                 2)                                                               \n",
            "                                                                                                  \n",
            " activation_6 (Activation)      (None, 256, 20, 20,  0           ['conv3d_6[0][0]']               \n",
            "                                 2)                                                               \n",
            "                                                                                                  \n",
            " conv3d_7 (Conv3D)              (None, 512, 20, 20,  3539456     ['activation_6[0][0]']           \n",
            "                                 2)                                                               \n",
            "                                                                                                  \n",
            " activation_7 (Activation)      (None, 512, 20, 20,  0           ['conv3d_7[0][0]']               \n",
            "                                 2)                                                               \n",
            "                                                                                                  \n",
            " max_pooling3d_3 (MaxPooling3D)  (None, 512, 10, 10,  0          ['activation_7[0][0]']           \n",
            "                                 1)                                                               \n",
            "                                                                                                  \n",
            " conv3d_8 (Conv3D)              (None, 512, 10, 10,  7078400     ['max_pooling3d_3[0][0]']        \n",
            "                                 1)                                                               \n",
            "                                                                                                  \n",
            " activation_8 (Activation)      (None, 512, 10, 10,  0           ['conv3d_8[0][0]']               \n",
            "                                 1)                                                               \n",
            "                                                                                                  \n",
            " conv3d_9 (Conv3D)              (None, 1024, 10, 10  14156800    ['activation_8[0][0]']           \n",
            "                                , 1)                                                              \n",
            "                                                                                                  \n",
            " activation_9 (Activation)      (None, 1024, 10, 10  0           ['conv3d_9[0][0]']               \n",
            "                                , 1)                                                              \n",
            "                                                                                                  \n",
            " up_sampling3d (UpSampling3D)   (None, 1024, 20, 20  0           ['activation_9[0][0]']           \n",
            "                                , 2)                                                              \n",
            "                                                                                                  \n",
            " concatenate (Concatenate)      (None, 1536, 20, 20  0           ['up_sampling3d[0][0]',          \n",
            "                                , 2)                              'activation_7[0][0]']           \n",
            "                                                                                                  \n",
            " conv3d_10 (Conv3D)             (None, 512, 20, 20,  21234176    ['concatenate[0][0]']            \n",
            "                                 2)                                                               \n",
            "                                                                                                  \n",
            " activation_10 (Activation)     (None, 512, 20, 20,  0           ['conv3d_10[0][0]']              \n",
            "                                 2)                                                               \n",
            "                                                                                                  \n",
            " conv3d_11 (Conv3D)             (None, 512, 20, 20,  7078400     ['activation_10[0][0]']          \n",
            "                                 2)                                                               \n",
            "                                                                                                  \n",
            " activation_11 (Activation)     (None, 512, 20, 20,  0           ['conv3d_11[0][0]']              \n",
            "                                 2)                                                               \n",
            "                                                                                                  \n",
            " up_sampling3d_1 (UpSampling3D)  (None, 512, 40, 40,  0          ['activation_11[0][0]']          \n",
            "                                 4)                                                               \n",
            "                                                                                                  \n",
            " concatenate_1 (Concatenate)    (None, 768, 40, 40,  0           ['up_sampling3d_1[0][0]',        \n",
            "                                 4)                               'activation_5[0][0]']           \n",
            "                                                                                                  \n",
            " conv3d_12 (Conv3D)             (None, 256, 40, 40,  5308672     ['concatenate_1[0][0]']          \n",
            "                                 4)                                                               \n",
            "                                                                                                  \n",
            " activation_12 (Activation)     (None, 256, 40, 40,  0           ['conv3d_12[0][0]']              \n",
            "                                 4)                                                               \n",
            "                                                                                                  \n",
            " conv3d_13 (Conv3D)             (None, 256, 40, 40,  1769728     ['activation_12[0][0]']          \n",
            "                                 4)                                                               \n",
            "                                                                                                  \n",
            " activation_13 (Activation)     (None, 256, 40, 40,  0           ['conv3d_13[0][0]']              \n",
            "                                 4)                                                               \n",
            "                                                                                                  \n",
            " up_sampling3d_2 (UpSampling3D)  (None, 256, 80, 80,  0          ['activation_13[0][0]']          \n",
            "                                 8)                                                               \n",
            "                                                                                                  \n",
            " concatenate_2 (Concatenate)    (None, 384, 80, 80,  0           ['up_sampling3d_2[0][0]',        \n",
            "                                 8)                               'activation_3[0][0]']           \n",
            "                                                                                                  \n",
            " conv3d_14 (Conv3D)             (None, 128, 80, 80,  1327232     ['concatenate_2[0][0]']          \n",
            "                                 8)                                                               \n",
            "                                                                                                  \n",
            " activation_14 (Activation)     (None, 128, 80, 80,  0           ['conv3d_14[0][0]']              \n",
            "                                 8)                                                               \n",
            "                                                                                                  \n",
            " conv3d_15 (Conv3D)             (None, 128, 80, 80,  442496      ['activation_14[0][0]']          \n",
            "                                 8)                                                               \n",
            "                                                                                                  \n",
            " activation_15 (Activation)     (None, 128, 80, 80,  0           ['conv3d_15[0][0]']              \n",
            "                                 8)                                                               \n",
            "                                                                                                  \n",
            " up_sampling3d_3 (UpSampling3D)  (None, 128, 160, 16  0          ['activation_15[0][0]']          \n",
            "                                0, 16)                                                            \n",
            "                                                                                                  \n",
            " concatenate_3 (Concatenate)    (None, 192, 160, 16  0           ['up_sampling3d_3[0][0]',        \n",
            "                                0, 16)                            'activation_1[0][0]']           \n",
            "                                                                                                  \n",
            " conv3d_16 (Conv3D)             (None, 64, 160, 160  331840      ['concatenate_3[0][0]']          \n",
            "                                , 16)                                                             \n",
            "                                                                                                  \n",
            " activation_16 (Activation)     (None, 64, 160, 160  0           ['conv3d_16[0][0]']              \n",
            "                                , 16)                                                             \n",
            "                                                                                                  \n",
            " conv3d_17 (Conv3D)             (None, 64, 160, 160  110656      ['activation_16[0][0]']          \n",
            "                                , 16)                                                             \n",
            "                                                                                                  \n",
            " activation_17 (Activation)     (None, 64, 160, 160  0           ['conv3d_17[0][0]']              \n",
            "                                , 16)                                                             \n",
            "                                                                                                  \n",
            " conv3d_18 (Conv3D)             (None, 3, 160, 160,  195         ['activation_17[0][0]']          \n",
            "                                 16)                                                              \n",
            "                                                                                                  \n",
            " activation_18 (Activation)     (None, 3, 160, 160,  0           ['conv3d_18[0][0]']              \n",
            "                                 16)                                                              \n",
            "                                                                                                  \n",
            "==================================================================================================\n",
            "Total params: 65,866,083\n",
            "Trainable params: 65,866,083\n",
            "Non-trainable params: 0\n",
            "__________________________________________________________________________________________________\n"
          ]
        }
      ],
      "source": [
        "model.summary()"
      ]
    },
    {
      "cell_type": "markdown",
      "id": "13d13680-01c6-4d31-a69d-5d1f2a098e7b",
      "metadata": {
        "id": "13d13680-01c6-4d31-a69d-5d1f2a098e7b"
      },
      "source": [
        "## Train with Sequence"
      ]
    },
    {
      "cell_type": "code",
      "execution_count": 11,
      "id": "c5137e31-a55b-4c42-965f-ad6b78a19766",
      "metadata": {
        "id": "c5137e31-a55b-4c42-965f-ad6b78a19766",
        "outputId": "83077e30-b681-44fc-a1e2-054b849d8a1a",
        "colab": {
          "base_uri": "https://localhost:8080/"
        }
      },
      "outputs": [
        {
          "output_type": "stream",
          "name": "stdout",
          "text": [
            "Epoch 1/20\n",
            "20/20 [==============================] - 86s 3s/step - loss: 0.9561 - dice_coefficient: 0.0288 - val_loss: 0.9463 - val_dice_coefficient: 0.0370\n",
            "Epoch 2/20\n",
            "20/20 [==============================] - 52s 3s/step - loss: 0.8244 - dice_coefficient: 0.1562 - val_loss: 0.9438 - val_dice_coefficient: 0.0452\n",
            "Epoch 3/20\n",
            "20/20 [==============================] - 51s 3s/step - loss: 0.7747 - dice_coefficient: 0.2170 - val_loss: 0.9475 - val_dice_coefficient: 0.0480\n",
            "Epoch 4/20\n",
            "20/20 [==============================] - 51s 3s/step - loss: 0.7579 - dice_coefficient: 0.2373 - val_loss: 0.9285 - val_dice_coefficient: 0.0670\n",
            "Epoch 5/20\n",
            "20/20 [==============================] - 51s 3s/step - loss: 0.7521 - dice_coefficient: 0.2442 - val_loss: 0.9241 - val_dice_coefficient: 0.0716\n",
            "Epoch 6/20\n",
            "20/20 [==============================] - 51s 3s/step - loss: 0.7495 - dice_coefficient: 0.2471 - val_loss: 0.9394 - val_dice_coefficient: 0.0576\n",
            "Epoch 7/20\n",
            "20/20 [==============================] - 51s 3s/step - loss: 0.7481 - dice_coefficient: 0.2488 - val_loss: 0.9346 - val_dice_coefficient: 0.0624\n",
            "Epoch 8/20\n",
            "20/20 [==============================] - 51s 3s/step - loss: 0.7466 - dice_coefficient: 0.2505 - val_loss: 0.9329 - val_dice_coefficient: 0.0642\n",
            "Epoch 9/20\n",
            "20/20 [==============================] - 51s 3s/step - loss: 0.7449 - dice_coefficient: 0.2520 - val_loss: 0.9428 - val_dice_coefficient: 0.0549\n",
            "Epoch 10/20\n",
            "20/20 [==============================] - 51s 3s/step - loss: 0.7431 - dice_coefficient: 0.2539 - val_loss: 0.9407 - val_dice_coefficient: 0.0571\n",
            "Epoch 11/20\n",
            "20/20 [==============================] - 51s 3s/step - loss: 0.7443 - dice_coefficient: 0.2522 - val_loss: 0.9402 - val_dice_coefficient: 0.0578\n",
            "Epoch 12/20\n",
            "20/20 [==============================] - 51s 3s/step - loss: 0.7402 - dice_coefficient: 0.2566 - val_loss: 0.9436 - val_dice_coefficient: 0.0545\n",
            "Epoch 13/20\n",
            "20/20 [==============================] - 51s 3s/step - loss: 0.7376 - dice_coefficient: 0.2594 - val_loss: 0.9521 - val_dice_coefficient: 0.0465\n",
            "Epoch 14/20\n",
            "20/20 [==============================] - 50s 3s/step - loss: 0.7365 - dice_coefficient: 0.2606 - val_loss: 0.9506 - val_dice_coefficient: 0.0479\n",
            "Epoch 15/20\n",
            "20/20 [==============================] - 60s 3s/step - loss: 0.7365 - dice_coefficient: 0.2607 - val_loss: 0.9467 - val_dice_coefficient: 0.0517\n",
            "Epoch 16/20\n",
            "20/20 [==============================] - 51s 3s/step - loss: 0.7353 - dice_coefficient: 0.2619 - val_loss: 0.9493 - val_dice_coefficient: 0.0492\n",
            "Epoch 17/20\n",
            "20/20 [==============================] - 50s 3s/step - loss: 0.7273 - dice_coefficient: 0.2695 - val_loss: 0.9363 - val_dice_coefficient: 0.0621\n",
            "Epoch 18/20\n",
            "20/20 [==============================] - 51s 3s/step - loss: 0.7205 - dice_coefficient: 0.2765 - val_loss: 0.9480 - val_dice_coefficient: 0.0507\n",
            "Epoch 19/20\n",
            "20/20 [==============================] - 60s 3s/step - loss: 0.7224 - dice_coefficient: 0.2744 - val_loss: 0.9403 - val_dice_coefficient: 0.0583\n",
            "Epoch 20/20\n",
            "20/20 [==============================] - 51s 3s/step - loss: 0.7203 - dice_coefficient: 0.2768 - val_loss: 0.9459 - val_dice_coefficient: 0.0529\n"
          ]
        },
        {
          "output_type": "execute_result",
          "data": {
            "text/plain": [
              "<keras.callbacks.History at 0x7fd0d0346710>"
            ]
          },
          "metadata": {},
          "execution_count": 11
        }
      ],
      "source": [
        "from MSDSequence import MSDSequence \n",
        "\n",
        "DATA_DIR = \"./Sample_Data\"\n",
        "# DATA_DIR = \"./Task01_BrainTumour_Optimized\"\n",
        "\n",
        "MODEL_FILE_PATH = \"./mri-trained-model.hdf5\"\n",
        "\n",
        "with open(os.path.join(DATA_DIR, \"dataset.json\")) as json_file:\n",
        "    dataset = json.load(json_file)\n",
        "    \n",
        "numTraining = dataset[\"numTraining\"]\n",
        "trainingPropotion = math.ceil(0.8 * numTraining)\n",
        "\n",
        "trainingSet = dataset[\"training\"][trainingPropotion:]\n",
        "validSet = dataset[\"training\"][:trainingPropotion]\n",
        "    \n",
        "train_generator = MSDSequence(trainingSet, \\\n",
        "                              DATA_DIR, \\\n",
        "                              batch_size=10, \\\n",
        "                              sample_size=len(trainingSet))\n",
        "valid_generator = MSDSequence(validSet, \\\n",
        "                              DATA_DIR, \\\n",
        "                              batch_size=2, \\\n",
        "                              sample_size=len(validSet))\n",
        "\n",
        "steps_per_epoch = 20\n",
        "n_epochs=20\n",
        "validation_steps = 20\n",
        "\n",
        "model.fit(train_generator, \\\n",
        "        steps_per_epoch=steps_per_epoch, \\\n",
        "        epochs=n_epochs, \\\n",
        "        use_multiprocessing=True, \\\n",
        "        validation_data=valid_generator, \\\n",
        "        validation_steps=validation_steps, \\\n",
        "        verbose=1)"
      ]
    },
    {
      "cell_type": "code",
      "execution_count": 14,
      "id": "fc9ab380-7ead-4421-a373-cdb73466fcf7",
      "metadata": {
        "id": "fc9ab380-7ead-4421-a373-cdb73466fcf7"
      },
      "outputs": [],
      "source": [
        "MODEL_FILE_PATH = \"./mri-trained-model.hdf5\"\n",
        "\n",
        "model.save(MODEL_FILE_PATH)"
      ]
    },
    {
      "cell_type": "code",
      "source": [
        "# Copy trained model to Google Drive\n",
        "if IN_COLAB:\n",
        "    !cp -f -v {MODEL_FILE_PATH} /content/drive/MyDrive/Temporary # type: ignore"
      ],
      "metadata": {
        "colab": {
          "base_uri": "https://localhost:8080/"
        },
        "id": "Mk6L3MoJOs7D",
        "outputId": "17bf89de-6347-4a8b-8005-a0d4570ab69f"
      },
      "id": "Mk6L3MoJOs7D",
      "execution_count": 17,
      "outputs": [
        {
          "output_type": "stream",
          "name": "stdout",
          "text": [
            "'./mri-trained-model.hdf5' -> '/content/drive/MyDrive/Temporary/mri-trained-model.hdf5'\n"
          ]
        }
      ]
    },
    {
      "cell_type": "markdown",
      "source": [
        "## Load trained"
      ],
      "metadata": {
        "id": "LX-ffw5XOFE6"
      },
      "id": "LX-ffw5XOFE6"
    },
    {
      "cell_type": "code",
      "source": [
        ""
      ],
      "metadata": {
        "id": "DVjbJmUSN8WP"
      },
      "id": "DVjbJmUSN8WP",
      "execution_count": null,
      "outputs": []
    }
  ],
  "metadata": {
    "kernelspec": {
      "display_name": "Python 3 (ipykernel)",
      "language": "python",
      "name": "python3"
    },
    "language_info": {
      "codemirror_mode": {
        "name": "ipython",
        "version": 3
      },
      "file_extension": ".py",
      "mimetype": "text/x-python",
      "name": "python",
      "nbconvert_exporter": "python",
      "pygments_lexer": "ipython3",
      "version": "3.9.9"
    },
    "colab": {
      "name": "Train.ipynb",
      "provenance": [],
      "collapsed_sections": [],
      "include_colab_link": true
    },
    "accelerator": "GPU",
    "gpuClass": "standard"
  },
  "nbformat": 4,
  "nbformat_minor": 5
}